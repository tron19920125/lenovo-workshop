{
 "cells": [
  {
   "cell_type": "markdown",
   "id": "2de07432",
   "metadata": {},
   "source": [
    "# 在 Azure Kubernetes Service (AKS) 上部署 Phi-4 模型完整教程\n",
    "\n",
    "本教程将指导您使用 Azure CLI 命令行工具在 AKS 上部署 Microsoft Phi-4 模型，实现一个可扩展的模型推理服务。\n",
    "\n",
    "## 目录\n",
    "1. [前置条件](#前置条件)\n",
    "2. [环境准备](#环境准备)\n",
    "3. [创建 AKS 集群](#创建-aks-集群)\n",
    "4. [部署 Azure 机器学习扩展](#部署-azure-机器学习扩展)\n",
    "5. [创建 Azure 机器学习工作区](#创建-azure-机器学习工作区)\n",
    "6. [将 AKS 集群附加到工作区](#将-aks-集群附加到工作区)\n",
    "7. [部署 Phi-4 模型](#部署-phi-4-模型)\n",
    "8. [测试模型端点](#测试模型端点)\n",
    "9. [监控和日志](#监控和日志)\n",
    "10. [清理资源](#清理资源)"
   ]
  },
  {
   "cell_type": "markdown",
   "id": "8a522521",
   "metadata": {},
   "source": [
    "## 前置条件\n",
    "\n",
    "### 系统要求\n",
    "- Azure 订阅（如果没有，请创建[免费账户](https://azure.microsoft.com/free/)）\n",
    "- Azure CLI 2.50.0 或更高版本\n",
    "- kubectl 命令行工具\n",
    "- Python 3.8+ 环境\n",
    "- 至少 16GB RAM 的开发机器"
   ]
  },
  {
   "cell_type": "markdown",
   "id": "42d472c2",
   "metadata": {},
   "source": [
    "### 安装必要工具\n",
    "\n",
    "首先，我们需要安装和配置必要的工具。以下命令将安装 Azure CLI、kubectl 和相关扩展："
   ]
  },
  {
   "cell_type": "code",
   "execution_count": null,
   "id": "aa507d9d",
   "metadata": {},
   "outputs": [],
   "source": [
    "# 安装 Azure CLI (如果尚未安装)\n",
    "!curl -sL https://aka.ms/InstallAzureCLIDeb | sudo bash\n",
    "\n",
    "# 验证安装\n",
    "!az --version\n",
    "\n",
    "# 安装 kubectl\n",
    "!az aks install-cli\n",
    "\n",
    "# 安装 k8s-extension 扩展\n",
    "!az extension add --name k8s-extension\n",
    "\n",
    "# 更新扩展到最新版本\n",
    "!az extension update --name k8s-extension"
   ]
  },
  {
   "cell_type": "markdown",
   "id": "64672fcb",
   "metadata": {},
   "source": [
    "### 登录 Azure\n",
    "\n",
    "使用以下命令登录到 Azure 并设置默认订阅："
   ]
  },
  {
   "cell_type": "code",
   "execution_count": null,
   "id": "1d3059ed",
   "metadata": {},
   "outputs": [],
   "source": [
    "# 登录 Azure\n",
    "!az login\n",
    "\n",
    "# 设置默认订阅（如果有多个订阅）\n",
    "# !az account set --subscription \"<subscription-id>\"\n",
    "\n",
    "# 验证当前订阅\n",
    "!az account show"
   ]
  },
  {
   "cell_type": "markdown",
   "id": "152014cb",
   "metadata": {},
   "source": [
    "## 环境准备\n",
    "\n",
    "### 定义环境变量\n",
    "\n",
    "我们需要设置一些环境变量来管理我们的资源："
   ]
  },
  {
   "cell_type": "code",
   "execution_count": null,
   "id": "8d07c79a",
   "metadata": {},
   "outputs": [],
   "source": [
    "import os\n",
    "import random\n",
    "\n",
    "# 设置环境变量\n",
    "os.environ[\"RESOURCE_GROUP\"] = \"phi4-aks-rg\"\n",
    "os.environ[\"LOCATION\"] = \"eastus\"\n",
    "os.environ[\"AKS_CLUSTER_NAME\"] = \"phi4-aks-cluster\"\n",
    "os.environ[\"ML_WORKSPACE_NAME\"] = \"phi4-ml-workspace\"\n",
    "os.environ[\"EXTENSION_NAME\"] = \"phi4-ml-extension\"\n",
    "os.environ[\"COMPUTE_NAME\"] = \"phi4-k8s-compute\"\n",
    "os.environ[\"ENDPOINT_NAME\"] = \"phi4-endpoint\"\n",
    "os.environ[\"DEPLOYMENT_NAME\"] = \"phi4-deployment\"\n",
    "os.environ[\"ACR_NAME\"] = f\"phi4acr{random.randint(0, 999999)}\"\n",
    "os.environ[\"STORAGE_ACCOUNT\"] = f\"phi4storage{random.randint(0, 999999)}\"\n",
    "\n",
    "# 显示配置\n",
    "print(f\"Resource Group: {os.environ['RESOURCE_GROUP']}\")\n",
    "print(f\"Location: {os.environ['LOCATION']}\")\n",
    "print(f\"AKS Cluster: {os.environ['AKS_CLUSTER_NAME']}\")\n",
    "print(f\"ML Workspace: {os.environ['ML_WORKSPACE_NAME']}\")"
   ]
  },
  {
   "cell_type": "markdown",
   "id": "c20e0709",
   "metadata": {},
   "source": [
    "## 创建 AKS 集群\n",
    "\n",
    "### 1. 创建资源组\n",
    "\n",
    "首先，我们需要创建一个资源组来管理所有相关资源："
   ]
  },
  {
   "cell_type": "code",
   "execution_count": null,
   "id": "e366ec76",
   "metadata": {},
   "outputs": [],
   "source": [
    "!az group create \\\n",
    "    --name $RESOURCE_GROUP \\\n",
    "    --location $LOCATION"
   ]
  },
  {
   "cell_type": "markdown",
   "id": "7a816f4f",
   "metadata": {},
   "source": [
    "### 2. 创建 AKS 集群\n",
    "\n",
    "创建一个适合运行 Phi-4 模型的 AKS 集群："
   ]
  },
  {
   "cell_type": "code",
   "execution_count": null,
   "id": "c4bc54fc",
   "metadata": {},
   "outputs": [],
   "source": [
    "!az aks create \\\n",
    "    --resource-group $RESOURCE_GROUP \\\n",
    "    --name $AKS_CLUSTER_NAME \\\n",
    "    --node-count 2 \\\n",
    "    --node-vm-size Standard_NC6s_v3 \\\n",
    "    --enable-managed-identity \\\n",
    "    --generate-ssh-keys \\\n",
    "    --enable-addons monitoring \\\n",
    "    --enable-cluster-autoscaler \\\n",
    "    --min-count 1 \\\n",
    "    --max-count 3 \\\n",
    "    --node-osdisk-size 100"
   ]
  },
  {
   "cell_type": "markdown",
   "id": "9890b7ab",
   "metadata": {},
   "source": [
    "### 3. 获取 AKS 凭据\n",
    "\n",
    "配置 kubectl 以连接到新创建的集群："
   ]
  },
  {
   "cell_type": "code",
   "execution_count": null,
   "id": "3a8fbc69",
   "metadata": {},
   "outputs": [],
   "source": [
    "# 配置 kubectl 连接到集群\n",
    "!az aks get-credentials \\\n",
    "    --resource-group $RESOURCE_GROUP \\\n",
    "    --name $AKS_CLUSTER_NAME\n",
    "\n",
    "# 验证连接\n",
    "!kubectl get nodes\n",
    "!kubectl get pods --all-namespaces"
   ]
  },
  {
   "cell_type": "markdown",
   "id": "be4740db",
   "metadata": {},
   "source": [
    "### 4. 安装 NVIDIA 设备插件\n",
    "\n",
    "如果使用 GPU 节点，需要安装 NVIDIA 设备插件："
   ]
  },
  {
   "cell_type": "code",
   "execution_count": null,
   "id": "fa101b99",
   "metadata": {},
   "outputs": [],
   "source": [
    "# 应用 NVIDIA 设备插件 DaemonSet\n",
    "!kubectl apply -f https://raw.githubusercontent.com/NVIDIA/k8s-device-plugin/v0.14.1/nvidia-device-plugin.yml\n",
    "\n",
    "# 验证 GPU 是否可用\n",
    "!kubectl get nodes -o json | jq '.items[].status.allocatable.\"nvidia.com/gpu\"'"
   ]
  },
  {
   "cell_type": "markdown",
   "id": "9635c55e",
   "metadata": {},
   "source": [
    "## 部署 Azure 机器学习扩展\n",
    "\n",
    "### 1. 注册必要的资源提供程序\n",
    "\n",
    "首先需要注册 KubernetesConfiguration 提供程序："
   ]
  },
  {
   "cell_type": "code",
   "execution_count": null,
   "id": "b56f4a54",
   "metadata": {},
   "outputs": [],
   "source": [
    "# 注册 KubernetesConfiguration 提供程序\n",
    "!az provider register --namespace Microsoft.KubernetesConfiguration\n",
    "\n",
    "# 等待注册完成\n",
    "!az provider show -n Microsoft.KubernetesConfiguration -o table"
   ]
  },
  {
   "cell_type": "markdown",
   "id": "5918955b",
   "metadata": {},
   "source": [
    "### 2. 部署 ML 扩展\n",
    "\n",
    "部署 Azure Machine Learning 扩展到 AKS 集群："
   ]
  },
  {
   "cell_type": "code",
   "execution_count": null,
   "id": "3b292b21",
   "metadata": {},
   "outputs": [],
   "source": [
    "!az k8s-extension create \\\n",
    "    --name $EXTENSION_NAME \\\n",
    "    --extension-type Microsoft.AzureML.Kubernetes \\\n",
    "    --config enableTraining=True \\\n",
    "    --config enableInference=True \\\n",
    "    --config inferenceRouterServiceType=LoadBalancer \\\n",
    "    --config allowInsecureConnections=False \\\n",
    "    --config InferenceRouterHA=True \\\n",
    "    --config installNvidiaDevicePlugin=True \\\n",
    "    --config installDcgmExporter=True \\\n",
    "    --cluster-type managedClusters \\\n",
    "    --cluster-name $AKS_CLUSTER_NAME \\\n",
    "    --resource-group $RESOURCE_GROUP \\\n",
    "    --scope cluster"
   ]
  },
  {
   "cell_type": "markdown",
   "id": "55ea909c",
   "metadata": {},
   "source": [
    "### 3. 验证扩展部署\n",
    "\n",
    "检查扩展的部署状态和相关资源："
   ]
  },
  {
   "cell_type": "code",
   "execution_count": null,
   "id": "d647a138",
   "metadata": {},
   "outputs": [],
   "source": [
    "# 检查扩展状态\n",
    "!az k8s-extension show \\\n",
    "    --name $EXTENSION_NAME \\\n",
    "    --cluster-type managedClusters \\\n",
    "    --cluster-name $AKS_CLUSTER_NAME \\\n",
    "    --resource-group $RESOURCE_GROUP\n",
    "\n",
    "# 检查 azureml 命名空间中的 pods\n",
    "!kubectl get pods -n azureml\n",
    "!kubectl get services -n azureml"
   ]
  },
  {
   "cell_type": "markdown",
   "id": "01f265b8",
   "metadata": {},
   "source": [
    "## 创建 Azure 机器学习工作区\n",
    "\n",
    "### 1. 创建存储账户和容器注册表\n",
    "\n",
    "首先创建必要的依赖资源："
   ]
  },
  {
   "cell_type": "code",
   "execution_count": null,
   "id": "2fba8583",
   "metadata": {},
   "outputs": [],
   "source": [
    "# 创建存储账户\n",
    "!az storage account create \\\n",
    "    --name $STORAGE_ACCOUNT \\\n",
    "    --resource-group $RESOURCE_GROUP \\\n",
    "    --location $LOCATION \\\n",
    "    --sku Standard_LRS \\\n",
    "    --kind StorageV2\n",
    "\n",
    "# 创建容器注册表\n",
    "!az acr create \\\n",
    "    --name $ACR_NAME \\\n",
    "    --resource-group $RESOURCE_GROUP \\\n",
    "    --location $LOCATION \\\n",
    "    --sku Basic \\\n",
    "    --admin-enabled true"
   ]
  },
  {
   "cell_type": "markdown",
   "id": "8e23610a",
   "metadata": {},
   "source": [
    "### 2. 创建 ML 工作区\n",
    "\n",
    "创建 Azure Machine Learning 工作区："
   ]
  },
  {
   "cell_type": "code",
   "execution_count": null,
   "id": "14b7f83c",
   "metadata": {},
   "outputs": [],
   "source": [
    "# 创建 ML 工作区\n",
    "!az ml workspace create \\\n",
    "    --name $ML_WORKSPACE_NAME \\\n",
    "    --resource-group $RESOURCE_GROUP \\\n",
    "    --location $LOCATION \\\n",
    "    --storage-account $STORAGE_ACCOUNT \\\n",
    "    --container-registry $ACR_NAME"
   ]
  },
  {
   "cell_type": "markdown",
   "id": "1ec91657",
   "metadata": {},
   "source": [
    "## 将 AKS 集群附加到工作区\n",
    "\n",
    "### 1. 获取 AKS 资源 ID 并创建命名空间"
   ]
  },
  {
   "cell_type": "code",
   "execution_count": null,
   "id": "2305c53c",
   "metadata": {},
   "outputs": [],
   "source": [
    "# 获取 AKS 资源 ID\n",
    "%%bash\n",
    "AKS_RESOURCE_ID=$(az aks show \\\n",
    "    --name $AKS_CLUSTER_NAME \\\n",
    "    --resource-group $RESOURCE_GROUP \\\n",
    "    --query id -o tsv)\n",
    "\n",
    "echo \"AKS Resource ID: $AKS_RESOURCE_ID\"\n",
    "\n",
    "# 创建 Kubernetes 命名空间\n",
    "!kubectl create namespace phi4-inference"
   ]
  },
  {
   "cell_type": "markdown",
   "id": "ec6406af",
   "metadata": {},
   "source": [
    "### 2. 附加集群到工作区并配置权限"
   ]
  },
  {
   "cell_type": "code",
   "execution_count": null,
   "id": "2d6747cf",
   "metadata": {},
   "outputs": [],
   "source": [
    "%%bash\n",
    "# 附加集群到工作区\n",
    "!az ml compute attach \\\n",
    "    --resource-group $RESOURCE_GROUP \\\n",
    "    --workspace-name $ML_WORKSPACE_NAME \\\n",
    "    --type Kubernetes \\\n",
    "    --name $COMPUTE_NAME \\\n",
    "    --resource-id $AKS_RESOURCE_ID \\\n",
    "    --identity-type SystemAssigned \\\n",
    "    --namespace phi4-inference\n",
    "\n",
    "# 获取计算标识\n",
    "COMPUTE_IDENTITY=$(az ml compute show \\\n",
    "    --name $COMPUTE_NAME \\\n",
    "    --workspace-name $ML_WORKSPACE_NAME \\\n",
    "    --resource-group $RESOURCE_GROUP \\\n",
    "    --query identity.principal_id -o tsv)\n",
    "\n",
    "# 获取 ACR ID\n",
    "ACR_ID=$(az acr show \\\n",
    "    --name $ACR_NAME \\\n",
    "    --resource-group $RESOURCE_GROUP \\\n",
    "    --query id -o tsv)\n",
    "\n",
    "# 授予 ACR 拉取权限\n",
    "!az role assignment create \\\n",
    "    --assignee $COMPUTE_IDENTITY \\\n",
    "    --role \"AcrPull\" \\\n",
    "    --scope $ACR_ID\n",
    "\n",
    "# 获取存储账户 ID\n",
    "STORAGE_ID=$(az storage account show \\\n",
    "    --name $STORAGE_ACCOUNT \\\n",
    "    --resource-group $RESOURCE_GROUP \\\n",
    "    --query id -o tsv)\n",
    "\n",
    "# 授予存储账户访问权限\n",
    "!az role assignment create \\\n",
    "    --assignee $COMPUTE_IDENTITY \\\n",
    "    --role \"Storage Blob Data Contributor\" \\\n",
    "    --scope $STORAGE_ID"
   ]
  },
  {
   "cell_type": "markdown",
   "id": "e4f5c9e3",
   "metadata": {},
   "source": [
    "## 部署 Phi-4 模型\n",
    "\n",
    "### 1. 创建部署配置文件\n",
    "\n",
    "首先创建必要的目录结构和配置文件："
   ]
  },
  {
   "cell_type": "markdown",
   "id": "2d58fb24",
   "metadata": {},
   "source": [
    "创建目录结构\n"
   ]
  },
  {
   "cell_type": "code",
   "execution_count": 5,
   "id": "e3351696",
   "metadata": {},
   "outputs": [],
   "source": [
    "!mkdir \"phi4-deployment/model\" \"phi4-deployment/script\""
   ]
  },
  {
   "cell_type": "markdown",
   "id": "c4a99ea6",
   "metadata": {},
   "source": [
    "创建评分脚本"
   ]
  },
  {
   "cell_type": "code",
   "execution_count": 6,
   "id": "730c1d8f",
   "metadata": {},
   "outputs": [
    {
     "name": "stdout",
     "output_type": "stream",
     "text": [
      "Writing phi4-deployment/script/score.py\n"
     ]
    }
   ],
   "source": [
    "%%writefile phi4-deployment/script/score.py\n",
    "import json\n",
    "import logging\n",
    "import os\n",
    "import torch\n",
    "from transformers import AutoModelForCausalLM, AutoTokenizer\n",
    "\n",
    "def init():\n",
    "    \"\"\"\n",
    "    初始化模型和分词器\n",
    "    \"\"\"\n",
    "    global model, tokenizer\n",
    "    \n",
    "    # 设置日志\n",
    "    logging.basicConfig(level=logging.INFO)\n",
    "    logger = logging.getLogger(__name__)\n",
    "    \n",
    "    # 模型路径\n",
    "    model_path = os.getenv('AZUREML_MODEL_DIR', '/var/azureml-app/azureml-models/phi4/1')\n",
    "    \n",
    "    logger.info(f\"Loading model from: {model_path}\")\n",
    "    \n",
    "    # 加载模型和分词器\n",
    "    model_name = \"microsoft/phi-4\"\n",
    "    \n",
    "    tokenizer = AutoTokenizer.from_pretrained(\n",
    "        model_name,\n",
    "        trust_remote_code=True\n",
    "    )\n",
    "    \n",
    "    model = AutoModelForCausalLM.from_pretrained(\n",
    "        model_name,\n",
    "        torch_dtype=torch.float16,\n",
    "        device_map=\"auto\",\n",
    "        trust_remote_code=True\n",
    "    )\n",
    "    \n",
    "    # 设置 pad token\n",
    "    if tokenizer.pad_token is None:\n",
    "        tokenizer.pad_token = tokenizer.eos_token\n",
    "    \n",
    "    logger.info(\"Model loaded successfully\")\n",
    "\n",
    "def run(raw_data):\n",
    "    \"\"\"\n",
    "    处理推理请求\n",
    "    \"\"\"\n",
    "    try:\n",
    "        # 解析输入数据\n",
    "        data = json.loads(raw_data)\n",
    "        prompt = data.get(\"prompt\", \"\")\n",
    "        max_tokens = data.get(\"max_tokens\", 200)\n",
    "        temperature = data.get(\"temperature\", 0.7)\n",
    "        top_p = data.get(\"top_p\", 0.95)\n",
    "        \n",
    "        # 准备输入\n",
    "        inputs = tokenizer(prompt, return_tensors=\"pt\", padding=True)\n",
    "        \n",
    "        # 生成响应\n",
    "        with torch.no_grad():\n",
    "            outputs = model.generate(\n",
    "                **inputs,\n",
    "                max_new_tokens=max_tokens,\n",
    "                temperature=temperature,\n",
    "                top_p=top_p,\n",
    "                do_sample=True,\n",
    "                pad_token_id=tokenizer.pad_token_id\n",
    "            )\n",
    "        \n",
    "        # 解码输出\n",
    "        response = tokenizer.decode(outputs[0], skip_special_tokens=True)\n",
    "        \n",
    "        # 移除原始提示词\n",
    "        response = response[len(prompt):].strip()\n",
    "        \n",
    "        return json.dumps({\n",
    "            \"response\": response,\n",
    "            \"model\": \"phi-4\",\n",
    "            \"usage\": {\n",
    "                \"prompt_tokens\": len(inputs[\"input_ids\"][0]),\n",
    "                \"completion_tokens\": len(outputs[0]) - len(inputs[\"input_ids\"][0]),\n",
    "                \"total_tokens\": len(outputs[0])\n",
    "            }\n",
    "        })\n",
    "        \n",
    "    except Exception as e:\n",
    "        error_message = f\"Error during inference: {str(e)}\"\n",
    "        logging.error(error_message)\n",
    "        return json.dumps({\"error\": error_message})"
   ]
  },
  {
   "cell_type": "markdown",
   "id": "bff568c1",
   "metadata": {},
   "source": [
    "创建环境配置文件\n"
   ]
  },
  {
   "cell_type": "code",
   "execution_count": 4,
   "id": "349b7ac0",
   "metadata": {},
   "outputs": [
    {
     "name": "stdout",
     "output_type": "stream",
     "text": [
      "Writing conda.yml\n"
     ]
    }
   ],
   "source": [
    "%%writefile phi4-deployment/model/conda.yml\n",
    "name: phi4-inference\n",
    "channels:\n",
    "  - pytorch\n",
    "  - nvidia\n",
    "  - conda-forge\n",
    "  - defaults\n",
    "dependencies:\n",
    "  - python=3.10\n",
    "  - pip\n",
    "  - pytorch=2.1.0\n",
    "  - pytorch-cuda=12.1\n",
    "  - pip:\n",
    "    - transformers>=4.36.0\n",
    "    - accelerate>=0.25.0\n",
    "    - sentencepiece\n",
    "    - protobuf\n",
    "    - einops\n",
    "    - flash-attn\n",
    "    - azureml-defaults\n",
    "    - azureml-inference-server-http"
   ]
  },
  {
   "cell_type": "markdown",
   "id": "92e22eda",
   "metadata": {},
   "source": [
    "创建部署配置文件"
   ]
  },
  {
   "cell_type": "code",
   "execution_count": null,
   "id": "e02e004f",
   "metadata": {},
   "outputs": [],
   "source": [
    "%%writefile phi4-deployment/deployment.yml\n",
    "$schema: https://azuremlschemas.azureedge.net/latest/managedOnlineDeployment.schema.json\n",
    "name: phi4-deployment\n",
    "endpoint_name: phi4-endpoint\n",
    "model:\n",
    "  name: phi4\n",
    "  version: 1\n",
    "  path: ./model\n",
    "code_configuration:\n",
    "  code: ./script/\n",
    "  scoring_script: score.py\n",
    "environment:\n",
    "  name: phi4-env\n",
    "  version: 1\n",
    "  conda_file: ./model/conda.yml\n",
    "  image: mcr.microsoft.com/azureml/curated/acpt-pytorch-2.1-cuda12.1:latest\n",
    "instance_type: Standard_NC6s_v3\n",
    "instance_count: 1\n",
    "request_settings:\n",
    "  request_timeout_ms: 90000\n",
    "  max_concurrent_requests_per_instance: 1\n",
    "  max_queue_wait_ms: 30000\n",
    "liveness_probe:\n",
    "  initial_delay: 600\n",
    "  period: 100\n",
    "  timeout: 70\n",
    "  success_threshold: 1\n",
    "  failure_threshold: 3\n",
    "readiness_probe:\n",
    "  initial_delay: 600\n",
    "  period: 100\n",
    "  timeout: 70\n",
    "  success_threshold: 1\n",
    "  failure_threshold: 3\n",
    "environment_variables:\n",
    "  TRANSFORMERS_CACHE: /tmp/.cache/huggingface\n",
    "  HF_HOME: /tmp/.cache/huggingface\n",
    "  CUDA_VISIBLE_DEVICES: 0"
   ]
  },
  {
   "cell_type": "markdown",
   "id": "9b0efb30",
   "metadata": {},
   "source": [
    "### 2. 创建在线端点并部署模型"
   ]
  },
  {
   "cell_type": "markdown",
   "id": "4c405073",
   "metadata": {},
   "source": [
    "创建端点配置文件\n"
   ]
  },
  {
   "cell_type": "code",
   "execution_count": null,
   "id": "9b3fd7e3",
   "metadata": {},
   "outputs": [],
   "source": [
    "%%writefile endpoint.yml\n",
    "$schema: https://azuremlschemas.azureedge.net/latest/managedOnlineEndpoint.schema.json\n",
    "name: $ENDPOINT_NAME\n",
    "compute: $COMPUTE_NAME\n",
    "auth_mode: key\n",
    "traffic:\n",
    "  phi4-deployment: 100\n",
    "\n",
    "# 创建端点\n",
    "!az ml online-endpoint create \\\n",
    "    --name $ENDPOINT_NAME \\\n",
    "    --resource-group $RESOURCE_GROUP \\\n",
    "    --workspace-name $ML_WORKSPACE_NAME \\\n",
    "    --file endpoint.yml\n",
    "\n",
    "# 部署模型\n",
    "!az ml online-deployment create \\\n",
    "    --name $DEPLOYMENT_NAME \\\n",
    "    --endpoint-name $ENDPOINT_NAME \\\n",
    "    --resource-group $RESOURCE_GROUP \\\n",
    "    --workspace-name $ML_WORKSPACE_NAME \\\n",
    "    --file phi4-deployment/deployment.yml \\\n",
    "    --all-traffic"
   ]
  },
  {
   "cell_type": "markdown",
   "id": "3dd746d7",
   "metadata": {},
   "source": [
    "## 测试模型端点\n",
    "\n",
    "### 1. 获取端点信息"
   ]
  },
  {
   "cell_type": "code",
   "execution_count": null,
   "id": "be76f807",
   "metadata": {},
   "outputs": [],
   "source": [
    "\n",
    "%%bash\n",
    "# 获取评分 URI\n",
    "SCORING_URI=$(az ml online-endpoint show \\\n",
    "    --name $ENDPOINT_NAME \\\n",
    "    --resource-group $RESOURCE_GROUP \\\n",
    "    --workspace-name $ML_WORKSPACE_NAME \\\n",
    "    --query scoring_uri -o tsv)\n",
    "\n",
    "# 获取主密钥\n",
    "API_KEY=$(az ml online-endpoint get-credentials \\\n",
    "    --name $ENDPOINT_NAME \\\n",
    "    --resource-group $RESOURCE_GROUP \\\n",
    "    --workspace-name $ML_WORKSPACE_NAME \\\n",
    "    --query primaryKey -o tsv)\n",
    "\n",
    "print(f\"Scoring URI: {SCORING_URI}\")\n",
    "print(f\"API Key: {API_KEY}\")"
   ]
  },
  {
   "cell_type": "markdown",
   "id": "4f31feaf",
   "metadata": {},
   "source": [
    "### 2. 测试端点\n",
    "\n",
    "使用 Python 发送测试请求："
   ]
  },
  {
   "cell_type": "code",
   "execution_count": null,
   "id": "b6f07df5",
   "metadata": {},
   "outputs": [],
   "source": [
    "import requests\n",
    "import json\n",
    "\n",
    "# 准备请求头\n",
    "headers = {\n",
    "    \"Content-Type\": \"application/json\",\n",
    "    \"Authorization\": f\"Bearer {API_KEY}\"\n",
    "}\n",
    "\n",
    "# 测试数据\n",
    "test_prompts = [\n",
    "    {\n",
    "        \"prompt\": \"Explain quantum computing in simple terms:\",\n",
    "        \"max_tokens\": 150,\n",
    "        \"temperature\": 0.7\n",
    "    },\n",
    "    {\n",
    "        \"prompt\": \"Write a Python function to calculate fibonacci numbers:\",\n",
    "        \"max_tokens\": 200,\n",
    "        \"temperature\": 0.5\n",
    "    }\n",
    "]\n",
    "\n",
    "# 发送请求\n",
    "for i, data in enumerate(test_prompts):\n",
    "    print(f\"\\n--- Test {i+1} ---\")\n",
    "    print(f\"Prompt: {data['prompt']}\")\n",
    "    \n",
    "    try:\n",
    "        response = requests.post(SCORING_URI, headers=headers, json=data)\n",
    "        response.raise_for_status()\n",
    "        \n",
    "        result = response.json()\n",
    "        print(f\"Response: {result.get('response', 'No response')}\")\n",
    "        print(f\"Tokens used: {result.get('usage', {}).get('total_tokens', 'N/A')}\")\n",
    "        \n",
    "    except requests.exceptions.RequestException as e:\n",
    "        print(f\"Error: {e}\")\n",
    "        if hasattr(e, 'response') and e.response is not None:\n",
    "            print(f\"Response content: {e.response.text}\")"
   ]
  },
  {
   "cell_type": "markdown",
   "id": "d4a78cbb",
   "metadata": {},
   "source": [
    "## 清理资源\n",
    "\n",
    "完成测试后，清理所有创建的资源以避免产生不必要的费用："
   ]
  },
  {
   "cell_type": "code",
   "execution_count": null,
   "id": "db5843ae",
   "metadata": {},
   "outputs": [],
   "source": [
    "# 删除在线端点\n",
    "!az ml online-endpoint delete \\\n",
    "    --name $ENDPOINT_NAME \\\n",
    "    --resource-group $RESOURCE_GROUP \\\n",
    "    --workspace-name $ML_WORKSPACE_NAME \\\n",
    "    --yes\n",
    "\n",
    "# 分离计算\n",
    "!az ml compute detach \\\n",
    "    --name $COMPUTE_NAME \\\n",
    "    --resource-group $RESOURCE_GROUP \\\n",
    "    --workspace-name $ML_WORKSPACE_NAME \\\n",
    "    --yes\n",
    "\n",
    "# 删除 ML 扩展\n",
    "!az k8s-extension delete \\\n",
    "    --name $EXTENSION_NAME \\\n",
    "    --cluster-type managedClusters \\\n",
    "    --cluster-name $AKS_CLUSTER_NAME \\\n",
    "    --resource-group $RESOURCE_GROUP \\\n",
    "    --yes\n",
    "\n",
    "# 删除 AKS 集群\n",
    "!az aks delete \\\n",
    "    --name $AKS_CLUSTER_NAME \\\n",
    "    --resource-group $RESOURCE_GROUP \\\n",
    "    --yes\n",
    "\n",
    "# 删除 ML 工作区\n",
    "!az ml workspace delete \\\n",
    "    --name $ML_WORKSPACE_NAME \\\n",
    "    --resource-group $RESOURCE_GROUP \\\n",
    "    --yes\n",
    "\n",
    "# 删除资源组（这将删除所有剩余资源）\n",
    "!az group delete \\\n",
    "    --name $RESOURCE_GROUP \\\n",
    "    --yes"
   ]
  }
 ],
 "metadata": {
  "kernelspec": {
   "display_name": ".venv",
   "language": "python",
   "name": "python3"
  },
  "language_info": {
   "codemirror_mode": {
    "name": "ipython",
    "version": 3
   },
   "file_extension": ".py",
   "mimetype": "text/x-python",
   "name": "python",
   "nbconvert_exporter": "python",
   "pygments_lexer": "ipython3",
   "version": "3.12.10"
  }
 },
 "nbformat": 4,
 "nbformat_minor": 5
}
