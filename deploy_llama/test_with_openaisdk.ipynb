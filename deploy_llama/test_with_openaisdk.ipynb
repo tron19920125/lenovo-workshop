{
 "cells": [
  {
   "cell_type": "markdown",
   "metadata": {},
   "source": [
    "# 在Azure AI和Azure ML中结合Llama2使用OpenAI SDK\n",
    "\n",
    "使用 `openai`  SDK 来调用 Azure AI 和 Azure ML 中的 Llama2 部署。Azure AI 和 Azure ML 中的 Llama2 系列模型提供了与 OpenAI 聊天完成 API 兼容的 API。这使得客户和用户能够无缝地从 OpenAI 模型过渡到 Mistral 大语言模型。\n",
    "\n",
    "该 API 可以直接与 OpenAI 的客户端库或第三方工具（如 LangChain 或 LlamaIndex ）配合使用。\n",
    "\n",
    "以下示例展示了如何使用 OpenAI Pytho n库进行这种过渡。请注意，Llama2 同时支持文本完成和聊天完成 API。 "
   ]
  },
  {
   "cell_type": "markdown",
   "metadata": {},
   "source": [
    "## 先决条件\n",
    "\n",
    "在开始之前，我们需要采取一些特定步骤来部署模型：\n",
    "\n",
    "* 注册一个有效的带有订阅的Azure账户\n",
    "* 确保你有访问 [Azure AI Studio](https://learn.microsoft.com/en-us/azure/ai-studio/what-is-ai-studio?tabs=home) 的权限\n",
    "* 创建工程和资源组\n",
    "* 从模型目录中选择Llama模型。本示例假设您正在部署`LLama-2-70b-chat`。\n",
    "\n",
    "    > 请注意，某些模型可能并非在Azure AI和Azure机器学习的所有区域都可用。在这种情况下，你可以在模型可用的区域创建一个工作区或项目，然后通过来自其他区域的连接来使用它。若要详细了解如何使用连接，请参阅 [使用连接使用模型](https://learn.microsoft.com/en-us/azure/ai-studio/how-to/deployments-connections)。 \n",
    "\n",
    "* 采用“即用即付”方式进行部署\n",
    "\n",
    "一旦成功部署，您将获得用于推理的API端点和安全密钥。\n",
    "\n",
    "有关更多信息，您应查阅Azure的官方文档[此处](https://learn.microsoft.com/en-us/azure/ai-studio/how-to/deploy-models-llama)，了解模型部署和推理相关内容。\n",
    "\n",
    "要完成本教程，你需要：\n",
    "\n",
    "* 安装 `openai`：\n",
    "\n",
    "    ```bash\n",
    "    pip install openai\n",
    "    ```"
   ]
  },
  {
   "cell_type": "markdown",
   "metadata": {},
   "source": [
    "## 示例\n",
    "\n",
    "以下是一个关于如何在 Azure AI 和A zure ML 中部署的 Llama2 聊天模型上使用`openai`的示例："
   ]
  },
  {
   "cell_type": "code",
   "execution_count": null,
   "metadata": {
    "name": "imports"
   },
   "outputs": [],
   "source": [
    "from openai import OpenAI"
   ]
  },
  {
   "cell_type": "markdown",
   "metadata": {},
   "source": [
    "你需要有一个端点网址以及与该端点相关联的认证密钥。这可以从之前的步骤中获取。\n",
    "要使用`openai`，按如下方式配置客户端：\n",
    "\n",
    "- `base_url`：使用你部署中的端点URL。URL中要包含`/v1`。\n",
    "- `api_key`：使用你的API密钥。"
   ]
  },
  {
   "cell_type": "code",
   "execution_count": null,
   "metadata": {
    "name": "chat_client"
   },
   "outputs": [],
   "source": [
    "client = OpenAI(\n",
    "    base_url=\"https://<endpoint>.<region>.inference.ai.azure.com/v1\", api_key=\"<key>\"\n",
    ")"
   ]
  },
  {
   "cell_type": "markdown",
   "metadata": {},
   "source": [
    "使用客户端创建聊天完成请求："
   ]
  },
  {
   "cell_type": "code",
   "execution_count": null,
   "metadata": {
    "name": "chat_invoke"
   },
   "outputs": [],
   "source": [
    "response = client.chat.completions.create(\n",
    "    messages=[\n",
    "        {\n",
    "            \"role\": \"user\",\n",
    "            \"content\": \"Who is the most renowned French painter? Provide a short answer.\",\n",
    "        }\n",
    "    ],\n",
    "    model=\"azureai\",\n",
    ")"
   ]
  },
  {
   "cell_type": "markdown",
   "metadata": {},
   "source": [
    "生成的文本可按如下方式访问："
   ]
  },
  {
   "cell_type": "code",
   "execution_count": null,
   "metadata": {
    "name": "chat_response"
   },
   "outputs": [],
   "source": [
    "print(response.choices[0].message.content)"
   ]
  },
  {
   "cell_type": "markdown",
   "metadata": {},
   "source": [
    "## 更多资源\n",
    "\n",
    "下面是一些额外的参考资料:  \n",
    "\n",
    "* [Fine-tune Llama](https://learn.microsoft.com/azure/ai-studio/how-to/fine-tune-model-llama)\n",
    "* [Plan and manage costs (marketplace)](https://learn.microsoft.com/azure/ai-studio/how-to/costs-plan-manage#monitor-costs-for-models-offered-through-the-azure-marketplace)\n"
   ]
  }
 ],
 "metadata": {
  "kernelspec": {
   "display_name": "Python 3.10 - SDK v2",
   "language": "python",
   "name": "python310-sdkv2"
  },
  "language_info": {
   "codemirror_mode": {
    "name": "ipython",
    "version": 3
   },
   "file_extension": ".py",
   "mimetype": "text/x-python",
   "name": "python",
   "nbconvert_exporter": "python",
   "pygments_lexer": "ipython3",
   "version": "3.10.11"
  }
 },
 "nbformat": 4,
 "nbformat_minor": 2
}
