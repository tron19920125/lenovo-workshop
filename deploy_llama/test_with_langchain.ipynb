{
 "cells": [
  {
   "cell_type": "markdown",
   "metadata": {},
   "source": [
    "# 在 Azure AI 和 Azure ML 中结合使用 LangChain 与 Llama2\n",
    "\n",
    "你可以将部署在 Azure AI 和 Azure ML 中的 Llama2 模型与`langchain`结合使用，以创建更复杂的智能应用程序。搭配使用`langchain_community`包与 Azure 机器学习集成。 "
   ]
  },
  {
   "cell_type": "markdown",
   "metadata": {},
   "source": [
    "## 先决条件\n",
    "\n",
    "在开始之前，我们需要采取一些特定步骤来部署模型：\n",
    "\n",
    "* 注册一个有效的带有订阅的Azure账户\n",
    "* 确保你有访问 [Azure AI Studio](https://learn.microsoft.com/en-us/azure/ai-studio/what-is-ai-studio?tabs=home) 的权限\n",
    "* 创建工程和资源组\n",
    "* 从模型目录中选择Llama模型。本示例假设您正在部署`LLama-2-70b-chat`。\n",
    "\n",
    "    > 请注意，某些模型可能并非在Azure AI和Azure机器学习的所有区域都可用。在这种情况下，你可以在模型可用的区域创建一个工作区或项目，然后通过来自其他区域的连接来使用它。若要详细了解如何使用连接，请参阅 [使用连接使用模型](https://learn.microsoft.com/en-us/azure/ai-studio/how-to/deployments-connections)。 \n",
    "\n",
    "* 采用“即用即付”方式进行部署\n",
    "\n",
    "一旦成功部署，您将获得用于推理的API端点和安全密钥。\n",
    "\n",
    "有关更多信息，您应查阅Azure的官方文档[此处](https://learn.microsoft.com/en-us/azure/ai-studio/how-to/deploy-models-llama)，了解模型部署和推理相关内容。\n",
    "\n",
    "要完成本教程，你需要：\n",
    "\n",
    "* 安装 `langchain` 和 `langchain_community`:\n",
    "\n",
    "    ```bash\n",
    "    pip install langchain langchain_community\n",
    "    ```"
   ]
  },
  {
   "cell_type": "markdown",
   "metadata": {},
   "source": [
    "## 示例\n",
    "\n",
    "以下示例展示了如何创建一个链，该链使用部署在 Azure AI 和 Azure ML 中的 Llama2 聊天模型。该链已配置了`ConversationBufferMemory`。此示例改编自 [LangChain official documentation](https://python.langchain.com/docs/modules/memory/adding_memory)."
   ]
  },
  {
   "cell_type": "code",
   "execution_count": null,
   "metadata": {
    "name": "imports"
   },
   "outputs": [],
   "source": [
    "from langchain.chains import LLMChain\n",
    "from langchain.memory import ConversationBufferMemory\n",
    "from langchain.prompts import (\n",
    "    ChatPromptTemplate,\n",
    "    HumanMessagePromptTemplate,\n",
    "    MessagesPlaceholder,\n",
    ")\n",
    "from langchain.schema import SystemMessage\n",
    "from langchain_community.chat_models.azureml_endpoint import (\n",
    "    AzureMLChatOnlineEndpoint,\n",
    "    AzureMLEndpointApiType,\n",
    "    LlamaChatContentFormatter,\n",
    ")"
   ]
  },
  {
   "cell_type": "markdown",
   "metadata": {},
   "source": [
    "让我们创建一个`AzureMLChatOnlineEndpoint`模型实例。这个类使我们能够访问部署在Azure AI或Azure ML中的任何模型。对于完成模型，使用`langchain_community.llms.azureml_endpoint.AzureMLOnlineEndpoint`类，并将`LlamaContentFormatter`作为`content_formatter`。"
   ]
  },
  {
   "cell_type": "code",
   "execution_count": null,
   "metadata": {
    "name": "chat_client"
   },
   "outputs": [],
   "source": [
    "chat_model = AzureMLChatOnlineEndpoint(\n",
    "    endpoint_url=\"https://<endpoint-name>.<region>.inference.ai.azure.com/v1/chat/completions\",\n",
    "    endpoint_api_type=AzureMLEndpointApiType.serverless,\n",
    "    endpoint_api_key=\"<key>\",\n",
    "    content_formatter=LlamaChatContentFormatter(),\n",
    ")"
   ]
  },
  {
   "cell_type": "markdown",
   "metadata": {},
   "source": [
    "> 提示：你可以配置环境变量`AZUREML_ENDPOINT_URL`、`AZUREML_ENDPOINT_API_KEY`和`AZUREML_ENDPOINT_API_TYPE`，而不是将它们作为参数传递。"
   ]
  },
  {
   "cell_type": "markdown",
   "metadata": {},
   "source": [
    "在以下提示中，我们有两个输入键：一个用于实际输入（`human_input`），另一个用于来自`Memory`类的输入（`chat_history`）。"
   ]
  },
  {
   "cell_type": "code",
   "execution_count": null,
   "metadata": {
    "name": "prompt-template"
   },
   "outputs": [],
   "source": [
    "prompt = ChatPromptTemplate.from_messages(\n",
    "    [\n",
    "        SystemMessage(\n",
    "            content=\"You are a chatbot having a conversation with a human. You love making references to animals on your answers.\"\n",
    "        ),\n",
    "        MessagesPlaceholder(variable_name=\"chat_history\"),\n",
    "        HumanMessagePromptTemplate.from_template(\"{human_input}\"),\n",
    "    ]\n",
    ")\n",
    "\n",
    "memory = ConversationBufferMemory(memory_key=\"chat_history\", return_messages=True)"
   ]
  },
  {
   "cell_type": "markdown",
   "metadata": {},
   "source": [
    "我们按如下方式创建链："
   ]
  },
  {
   "cell_type": "code",
   "execution_count": null,
   "metadata": {
    "name": "chain"
   },
   "outputs": [],
   "source": [
    "chat_llm_chain = LLMChain(\n",
    "    llm=chat_model,\n",
    "    prompt=prompt,\n",
    "    memory=memory,\n",
    "    verbose=True,\n",
    ")"
   ]
  },
  {
   "cell_type": "markdown",
   "metadata": {},
   "source": [
    "我们可以看到它是如何运作的："
   ]
  },
  {
   "cell_type": "code",
   "execution_count": null,
   "metadata": {
    "name": "chat_invoke"
   },
   "outputs": [],
   "source": [
    "chat_llm_chain.predict(human_input=\"Hi there my friend\")"
   ]
  },
  {
   "cell_type": "code",
   "execution_count": null,
   "metadata": {},
   "outputs": [],
   "source": [
    "chat_llm_chain.predict(\n",
    "    human_input=\"I'm thinking on a present for my mother. Any advise?\"\n",
    ")"
   ]
  },
  {
   "cell_type": "markdown",
   "metadata": {},
   "source": [
    "## 更多资源\n",
    "\n",
    "下面是一些额外的参考资料:  \n",
    "\n",
    "* [Fine-tune Llama](https://learn.microsoft.com/azure/ai-studio/how-to/fine-tune-model-llama)\n",
    "* [Plan and manage costs (marketplace)](https://learn.microsoft.com/azure/ai-studio/how-to/costs-plan-manage#monitor-costs-for-models-offered-through-the-azure-marketplace)\n"
   ]
  }
 ],
 "metadata": {
  "kernelspec": {
   "display_name": "Python 3.10 - SDK v2",
   "language": "python",
   "name": "python310-sdkv2"
  },
  "language_info": {
   "codemirror_mode": {
    "name": "ipython",
    "version": 3
   },
   "file_extension": ".py",
   "mimetype": "text/x-python",
   "name": "python",
   "nbconvert_exporter": "python",
   "pygments_lexer": "ipython3",
   "version": "3.10.11"
  }
 },
 "nbformat": 4,
 "nbformat_minor": 2
}
